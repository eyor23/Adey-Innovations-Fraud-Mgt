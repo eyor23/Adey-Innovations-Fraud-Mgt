{
 "cells": [
  {
   "cell_type": "code",
   "execution_count": 1,
   "metadata": {},
   "outputs": [],
   "source": [
    "import pandas as pd\n",
    "import os\n",
    "import sys\n",
    "import mlflow\n",
    "import mlflow.sklearn\n",
    "from sklearn.model_selection import train_test_split\n",
    "from sklearn.preprocessing import StandardScaler\n",
    "from sklearn.linear_model import LogisticRegression\n",
    "from sklearn.tree import DecisionTreeClassifier\n",
    "from sklearn.ensemble import RandomForestClassifier, GradientBoostingClassifier\n",
    "from sklearn.neural_network import MLPClassifier\n",
    "from sklearn.metrics import accuracy_score, classification_report\n",
    "import numpy as np\n",
    "# Append the project root path to sys.path\n",
    "sys.path.append(os.path.abspath(\"..\"))"
   ]
  },
  {
   "cell_type": "code",
   "execution_count": 2,
   "metadata": {},
   "outputs": [
    {
     "name": "stderr",
     "output_type": "stream",
     "text": [
      "2025/02/14 11:58:45 WARNING mlflow.models.model: Model logged without a signature and input example. Please set `input_example` parameter when logging the model to auto infer the model signature.\n"
     ]
    },
    {
     "name": "stdout",
     "output_type": "stream",
     "text": [
      "Logistic Regression (Fraud Data) Results:\n",
      "Accuracy: 0.5343943354398968\n",
      "Classification Report:\n",
      "               precision    recall  f1-score   support\n",
      "\n",
      "           0       0.92      0.54      0.68     27393\n",
      "           1       0.10      0.52      0.17      2830\n",
      "\n",
      "    accuracy                           0.53     30223\n",
      "   macro avg       0.51      0.53      0.42     30223\n",
      "weighted avg       0.84      0.53      0.63     30223\n",
      "\n",
      "--------------------------------------------------\n"
     ]
    },
    {
     "name": "stderr",
     "output_type": "stream",
     "text": [
      "2025/02/14 11:58:49 WARNING mlflow.models.model: Model logged without a signature and input example. Please set `input_example` parameter when logging the model to auto infer the model signature.\n"
     ]
    },
    {
     "name": "stdout",
     "output_type": "stream",
     "text": [
      "Decision Tree (Fraud Data) Results:\n",
      "Accuracy: 0.9012672467987957\n",
      "Classification Report:\n",
      "               precision    recall  f1-score   support\n",
      "\n",
      "           0       0.95      0.94      0.95     27393\n",
      "           1       0.48      0.56      0.51      2830\n",
      "\n",
      "    accuracy                           0.90     30223\n",
      "   macro avg       0.71      0.75      0.73     30223\n",
      "weighted avg       0.91      0.90      0.90     30223\n",
      "\n",
      "--------------------------------------------------\n"
     ]
    },
    {
     "name": "stderr",
     "output_type": "stream",
     "text": [
      "2025/02/14 11:59:06 WARNING mlflow.models.model: Model logged without a signature and input example. Please set `input_example` parameter when logging the model to auto infer the model signature.\n"
     ]
    },
    {
     "name": "stdout",
     "output_type": "stream",
     "text": [
      "Random Forest (Fraud Data) Results:\n",
      "Accuracy: 0.95486880852331\n",
      "Classification Report:\n",
      "               precision    recall  f1-score   support\n",
      "\n",
      "           0       0.95      1.00      0.98     27393\n",
      "           1       0.99      0.52      0.68      2830\n",
      "\n",
      "    accuracy                           0.95     30223\n",
      "   macro avg       0.97      0.76      0.83     30223\n",
      "weighted avg       0.96      0.95      0.95     30223\n",
      "\n",
      "--------------------------------------------------\n"
     ]
    },
    {
     "name": "stderr",
     "output_type": "stream",
     "text": [
      "2025/02/14 11:59:25 WARNING mlflow.models.model: Model logged without a signature and input example. Please set `input_example` parameter when logging the model to auto infer the model signature.\n"
     ]
    },
    {
     "name": "stdout",
     "output_type": "stream",
     "text": [
      "Gradient Boosting (Fraud Data) Results:\n",
      "Accuracy: 0.9069251894252721\n",
      "Classification Report:\n",
      "               precision    recall  f1-score   support\n",
      "\n",
      "           0       0.91      1.00      0.95     27393\n",
      "           1       0.95      0.01      0.01      2830\n",
      "\n",
      "    accuracy                           0.91     30223\n",
      "   macro avg       0.93      0.50      0.48     30223\n",
      "weighted avg       0.91      0.91      0.86     30223\n",
      "\n",
      "--------------------------------------------------\n"
     ]
    },
    {
     "name": "stderr",
     "output_type": "stream",
     "text": [
      "2025/02/14 12:00:10 WARNING mlflow.models.model: Model logged without a signature and input example. Please set `input_example` parameter when logging the model to auto infer the model signature.\n"
     ]
    },
    {
     "name": "stdout",
     "output_type": "stream",
     "text": [
      "MLP (Fraud Data) Results:\n",
      "Accuracy: 0.9497402640373226\n",
      "Classification Report:\n",
      "               precision    recall  f1-score   support\n",
      "\n",
      "           0       0.95      0.99      0.97     27393\n",
      "           1       0.89      0.53      0.66      2830\n",
      "\n",
      "    accuracy                           0.95     30223\n",
      "   macro avg       0.92      0.76      0.82     30223\n",
      "weighted avg       0.95      0.95      0.94     30223\n",
      "\n",
      "--------------------------------------------------\n"
     ]
    }
   ],
   "source": [
    "# --- Task 2: Model Building and Training ---\n",
    "\n",
    "# 1. Load Merged Data (from Task 1)\n",
    "file_path = r'C:\\Users\\user\\Desktop\\Kifiya\\Adey-Innovations-Fraud-Mgt\\data\\preprocessed_data.csv'\n",
    "if not os.path.exists(file_path):\n",
    "    print(\"Error: preprocessed_data.csv not found. Please run Task 1 first.\")\n",
    "    exit()\n",
    "\n",
    "merged_data = pd.read_csv(file_path)\n",
    "\n",
    "# Columns to remove (replace with your actual column names)\n",
    "columns_to_remove = ['signup_time', 'purchase_time', 'device_id', 'country']\n",
    "\n",
    "# 2. Feature and Target Separation (Fraud Data)\n",
    "X_fraud = merged_data.drop('class', axis=1)\n",
    "y_fraud = merged_data['class'].astype(int)  # Ensure y is numeric (0 or 1)\n",
    "X_fraud = X_fraud.drop(columns=columns_to_remove, errors='ignore')\n",
    "\n",
    "# 3. Train-Test Split (Fraud Data)\n",
    "X_fraud_train, X_fraud_test, y_fraud_train, y_fraud_test = train_test_split(\n",
    "    X_fraud, y_fraud, test_size=0.2, random_state=42, stratify=y_fraud\n",
    ")\n",
    "\n",
    "# 4. Scaling (Fraud Data)\n",
    "scaler = StandardScaler()\n",
    "numeric_features = [\"purchase_value\", \"age\", \"ip_address\", \"purchase_frequency_proxy\"]\n",
    "merged_data[numeric_features] = scaler.fit_transform(merged_data[numeric_features])\n",
    "X_fraud_train = scaler.fit_transform(X_fraud_train)\n",
    "X_fraud_test = scaler.transform(X_fraud_test)\n",
    "\n",
    "# 5. Model Selection and Training (with MLflow - Fraud Data)\n",
    "models = {\n",
    "    \"Logistic Regression\": LogisticRegression(class_weight='balanced'),\n",
    "    \"Decision Tree\": DecisionTreeClassifier(),\n",
    "    \"Random Forest\": RandomForestClassifier(),\n",
    "    \"Gradient Boosting\": GradientBoostingClassifier(),\n",
    "    \"MLP\": MLPClassifier(max_iter=500, random_state=42)\n",
    "}\n",
    "\n",
    "for name, model in models.items():\n",
    "    with mlflow.start_run(run_name=f\"{name} (Fraud Data)\"):\n",
    "        model.fit(X_fraud_train, y_fraud_train)\n",
    "        y_pred = model.predict(X_fraud_test)\n",
    "\n",
    "        accuracy = accuracy_score(y_fraud_test, y_pred)\n",
    "        report = classification_report(y_fraud_test, y_pred)\n",
    "\n",
    "        mlflow.log_param(\"model\", name)\n",
    "        mlflow.log_metric(\"accuracy\", accuracy)\n",
    "\n",
    "        # Save the classification report as a text file and log it\n",
    "        with open(\"classification_report.txt\", \"w\") as f:\n",
    "            f.write(report)\n",
    "        mlflow.log_artifact(\"classification_report.txt\")\n",
    "\n",
    "        mlflow.sklearn.log_model(model, \"model\")\n",
    "\n",
    "        print(f\"{name} (Fraud Data) Results:\")\n",
    "        print(f\"Accuracy: {accuracy}\")\n",
    "        print(\"Classification Report:\\n\", report)\n",
    "        print(\"-\" * 50)"
   ]
  },
  {
   "cell_type": "code",
   "execution_count": 4,
   "metadata": {},
   "outputs": [
    {
     "data": {
      "text/plain": [
       "array([[-1.4161757 ,  1.18657302, -0.59946771, ..., -0.56797302,\n",
       "        -0.15815477, -0.44022763],\n",
       "       [ 0.33149434, -0.84276313, -1.29584246, ..., -0.56797302,\n",
       "        -0.15815477,  2.27155212],\n",
       "       [-1.36156101, -0.84276313, -0.13521787, ...,  1.76064701,\n",
       "        -0.15815477, -0.44022763],\n",
       "       ...,\n",
       "       [ 0.82302654, -0.84276313,  0.90934427, ...,  1.76064701,\n",
       "        -0.15815477, -0.44022763],\n",
       "       [ 1.15071467, -0.84276313,  0.44509443, ...,  1.76064701,\n",
       "        -0.15815477, -0.44022763],\n",
       "       [ 0.33149434,  1.18657302, -0.71553016, ..., -0.56797302,\n",
       "        -0.15815477, -0.44022763]])"
      ]
     },
     "execution_count": 4,
     "metadata": {},
     "output_type": "execute_result"
    }
   ],
   "source": [
    "X_fraud_train"
   ]
  },
  {
   "cell_type": "code",
   "execution_count": 15,
   "metadata": {},
   "outputs": [
    {
     "name": "stderr",
     "output_type": "stream",
     "text": [
      "2025/02/11 16:00:09 WARNING mlflow.models.model: Model logged without a signature and input example. Please set `input_example` parameter when logging the model to auto infer the model signature.\n"
     ]
    },
    {
     "name": "stdout",
     "output_type": "stream",
     "text": [
      "Logistic Regression (Credit Card Data) Results:\n",
      "Accuracy: 0.9755275446789088\n",
      "Classification Report:\n",
      "               precision    recall  f1-score   support\n",
      "\n",
      "           0       1.00      0.98      0.99     56864\n",
      "           1       0.06      0.92      0.11        98\n",
      "\n",
      "    accuracy                           0.98     56962\n",
      "   macro avg       0.53      0.95      0.55     56962\n",
      "weighted avg       1.00      0.98      0.99     56962\n",
      "\n",
      "--------------------------------------------------\n"
     ]
    },
    {
     "name": "stderr",
     "output_type": "stream",
     "text": [
      "2025/02/11 16:00:43 WARNING mlflow.models.model: Model logged without a signature and input example. Please set `input_example` parameter when logging the model to auto infer the model signature.\n"
     ]
    },
    {
     "name": "stdout",
     "output_type": "stream",
     "text": [
      "Decision Tree (Credit Card Data) Results:\n",
      "Accuracy: 0.9990344440153085\n",
      "Classification Report:\n",
      "               precision    recall  f1-score   support\n",
      "\n",
      "           0       1.00      1.00      1.00     56864\n",
      "           1       0.72      0.71      0.72        98\n",
      "\n",
      "    accuracy                           1.00     56962\n",
      "   macro avg       0.86      0.86      0.86     56962\n",
      "weighted avg       1.00      1.00      1.00     56962\n",
      "\n",
      "--------------------------------------------------\n"
     ]
    }
   ],
   "source": [
    "# --- Credit Card Data Processing ---\n",
    "\n",
    "# 1. Load Data (Credit Card)\n",
    "try:\n",
    "    credit_data = pd.read_csv(r'C:\\Users\\user\\Desktop\\Kifiya\\Adey-Innovations-Fraud-Mgt\\data\\creditcard.csv')\n",
    "except FileNotFoundError:\n",
    "    print(\"Error: creditcard.csv not found.\")\n",
    "    exit()\n",
    "\n",
    "# 2. Feature and Target Separation (Credit Card)\n",
    "X_credit = credit_data.drop('Class', axis=1)\n",
    "y_credit = credit_data['Class'].astype(int) # Ensure y is numeric (0 or 1)\n",
    "\n",
    "# 3. Train-Test Split (Credit Card)\n",
    "X_credit_train, X_credit_test, y_credit_train, y_credit_test = train_test_split(\n",
    "    X_credit, y_credit, test_size=0.2, random_state=42, stratify=y_credit\n",
    ")\n",
    "\n",
    "# 4. Scaling (Credit Card)\n",
    "scaler_credit = StandardScaler()\n",
    "X_credit_train = scaler_credit.fit_transform(X_credit_train)\n",
    "X_credit_test = scaler_credit.transform(X_credit_test)\n",
    "\n",
    "# 5. Model Selection and Training (with MLflow - Credit Card)\n",
    "models_cred = {\n",
    "    \"Logistic Regression\": LogisticRegression(class_weight='balanced'),  # Increase max_iter if needed\n",
    "    \"Decision Tree\": DecisionTreeClassifier(),\n",
    "}\n",
    "\n",
    "for name, model in models_cred.items():  # Re-using the same models dictionary\n",
    "    with mlflow.start_run(run_name=f\"{name} (Credit Card Data)\"):\n",
    "        model.fit(X_credit_train, y_credit_train)\n",
    "        y_pred = model.predict(X_credit_test)\n",
    "\n",
    "        accuracy = accuracy_score(y_credit_test, y_pred)\n",
    "        report = classification_report(y_credit_test, y_pred)\n",
    "\n",
    "        mlflow.log_param(\"model\", name)\n",
    "        mlflow.log_metric(\"accuracy\", accuracy)\n",
    "        mlflow.log_text(report, \"classification_report.txt\")\n",
    "        mlflow.sklearn.log_model(model, \"model\")\n",
    "\n",
    "        print(f\"{name} (Credit Card Data) Results:\")\n",
    "        print(f\"Accuracy: {accuracy}\")\n",
    "        print(\"Classification Report:\\n\", report)\n",
    "        print(\"-\" * 50)"
   ]
  }
 ],
 "metadata": {
  "kernelspec": {
   "display_name": "advenv",
   "language": "python",
   "name": "python3"
  },
  "language_info": {
   "codemirror_mode": {
    "name": "ipython",
    "version": 3
   },
   "file_extension": ".py",
   "mimetype": "text/x-python",
   "name": "python",
   "nbconvert_exporter": "python",
   "pygments_lexer": "ipython3",
   "version": "3.12.2"
  }
 },
 "nbformat": 4,
 "nbformat_minor": 2
}
